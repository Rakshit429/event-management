{
 "cells": [
  {
   "cell_type": "code",
   "execution_count": 2,
   "metadata": {},
   "outputs": [
    {
     "name": "stdout",
     "output_type": "stream",
     "text": [
      "   user_id  post_id              tags\n",
      "0        1      101      travel beach\n",
      "1        1      102       food recipe\n",
      "2        2      101      travel beach\n",
      "3        2      103    fitness health\n",
      "4        3      102       food recipe\n",
      "5        3      104      tech gadgets\n",
      "6        3      105  travel adventure\n",
      "[[1.  0.  0.  0.  0.5]\n",
      " [0.  1.  0.  0.  0. ]\n",
      " [0.  0.  1.  0.  0. ]\n",
      " [0.  0.  0.  1.  0. ]\n",
      " [0.5 0.  0.  0.  1. ]]\n",
      "Recommended posts for user 1: [np.int64(105), np.int64(103), np.int64(104)]\n"
     ]
    }
   ],
   "source": [
    "import pandas as pd\n",
    "from sklearn.metrics.pairwise import cosine_similarity\n",
    "from sklearn.feature_extraction.text import CountVectorizer\n",
    "import numpy as np\n",
    "\n",
    "# Sample data\n",
    "user_likes = {\n",
    "    'user_id': [1, 1, 2, 2, 3, 3, 3],\n",
    "    'post_id': [101, 102, 101, 103, 102, 104, 105]\n",
    "}\n",
    " \n",
    "# Posts metadata (e.g., categories, tags, or text descriptions)\n",
    "posts = {\n",
    "    'post_id': [101, 102, 103, 104, 105],\n",
    "    'tags': ['travel beach', 'food recipe', 'fitness health', 'tech gadgets', 'travel adventure']\n",
    "}\n",
    "\n",
    "# Convert data to DataFrames\n",
    "user_likes_df = pd.DataFrame(user_likes)\n",
    "posts_df = pd.DataFrame(posts)\n",
    "\n",
    "# Merge the dataframes to associate users with post metadata\n",
    "merged_df = user_likes_df.merge(posts_df, on='post_id')\n",
    "print(merged_df)\n",
    "\n",
    "# Create a post-content matrix\n",
    "count_vectorizer = CountVectorizer()\n",
    "post_content_matrix = count_vectorizer.fit_transform(posts_df['tags'])\n",
    "\n",
    "# Calculate post similarity using cosine similarity\n",
    "post_similarity = cosine_similarity(post_content_matrix, post_content_matrix)\n",
    "print(post_similarity)\n",
    "\n",
    "# Recommendation function\n",
    "def recommend_posts(user_id, user_likes_df, posts_df, post_similarity, top_n=5):\n",
    "    # Get posts liked by the user\n",
    "    user_posts = user_likes_df[user_likes_df['user_id'] == user_id]['post_id'].values\n",
    "    \n",
    "    # Get indices of liked posts\n",
    "    post_indices = [posts_df[posts_df['post_id'] == post_id].index[0] for post_id in user_posts]\n",
    "    \n",
    "    # Calculate the mean similarity of all posts liked by the user\n",
    "    user_similarity = np.mean(post_similarity[post_indices], axis=0)\n",
    "    \n",
    "    # Rank posts by similarity score\n",
    "    recommended_indices = np.argsort(-user_similarity)\n",
    "    \n",
    "    # Filter out posts already liked by the user\n",
    "    recommended_posts = [\n",
    "        posts_df.iloc[idx]['post_id']\n",
    "        for idx in recommended_indices\n",
    "        if posts_df.iloc[idx]['post_id'] not in user_posts\n",
    "    ]\n",
    "    \n",
    "    return recommended_posts[:top_n]\n",
    "\n",
    "# Example usage\n",
    "user_id = 1\n",
    "recommended_posts = recommend_posts(user_id, user_likes_df, posts_df, post_similarity, top_n=3)\n",
    "print(f\"Recommended posts for user {user_id}: {recommended_posts}\")\n"
   ]
  },
  {
   "cell_type": "code",
   "execution_count": 1,
   "metadata": {},
   "outputs": [
    {
     "name": "stdout",
     "output_type": "stream",
     "text": [
      "       entryno          name                 email password  \\\n",
      "0  2024CS10020  rakshit modi  cs1240020@iitd.ac.in      rak   \n",
      "\n",
      "                                                role department  \\\n",
      "0  [\"student\", \"club\", \"department\", \"fest\", \"cou...       null   \n",
      "\n",
      "                           photo                            interest  \n",
      "0  WIN_20241109_02_47_00_Pro.jpg  [\"reading\", \"traveling\", \"coding\"]  \n"
     ]
    }
   ],
   "source": [
    "import sqlite3\n",
    "import pandas as pd\n",
    "entryno=\"2024CS10020\"\n",
    "\n",
    "# Path to your SQLite database file\n",
    "db_path = r\"C:\\Users\\DELL\\Documents\\kars\\instance\\kars.db\"\n",
    "\n",
    "\n",
    "# Connect to the SQLite database\n",
    "conn = sqlite3.connect(db_path)\n",
    "\n",
    "\n",
    "# Define your SQL query\n",
    "query = \"SELECT * FROM registration\"\n",
    "query1= \"SELECT * FROM events\"\n",
    "query2= \"SELECT * FROM course_events\"\n",
    "query3= \"SELECT * FROM students_events\"\n",
    "\n",
    "# Load data into a pandas DataFrame\n",
    "registration = pd.read_sql_query(query, conn)\n",
    "events=pd.read_sql_query(query1, conn)\n",
    "course_events=pd.read_sql_query(query2, conn)\n",
    "students_events=pd.read_sql_query(query3, conn)\n",
    "# Close the connection\n",
    "conn.close()\n",
    "registration=registration[registration[\"entryno\"]==\"2024CS10020\"]\n",
    "students_events=students_events[students_events[\"entryno\"]==\"2024CS10020\"]\n",
    "# Display the DataFrame\n",
    "# print(events)\n",
    "# print(students_events)\n",
    "print(registration)\n",
    "# print(course_events)"
   ]
  },
  {
   "cell_type": "code",
   "execution_count": 2,
   "metadata": {},
   "outputs": [
    {
     "ename": "SyntaxError",
     "evalue": "'return' outside function (3603840180.py, line 5)",
     "output_type": "error",
     "traceback": [
      "\u001b[1;36m  Cell \u001b[1;32mIn[2], line 5\u001b[1;36m\u001b[0m\n\u001b[1;33m    return events.query.first(5)  # Return empty if no interests are found\u001b[0m\n\u001b[1;37m    ^\u001b[0m\n\u001b[1;31mSyntaxError\u001b[0m\u001b[1;31m:\u001b[0m 'return' outside function\n"
     ]
    }
   ],
   "source": [
    "import json\n",
    "user_entryno=registration[\"entryno\"]\n",
    "\n",
    "# Convert stored interests from JSON string to list\n",
    "user_interests = json.loads(registration[\"interest\"])\n",
    "\n",
    "# Fetch all available events from the database\n",
    "all_events = events.query.all()\n",
    "\n",
    "if not all_events:\n",
    "    return []  # Return empty if no events exist\n",
    "\n",
    "# Prepare event data\n",
    "event_names = [event.name for event in all_events]\n",
    "event_tags = [event.tags for event in all_events]  # Tags are used for recommendation\n",
    "\n",
    "# Convert user interests and event tags into text format for vectorization\n",
    "all_texts = [' '.join(user_interests)] + event_tags\n",
    "\n",
    "# Convert text data to TF-IDF vectors\n",
    "vectorizer = TfidfVectorizer(stop_words='english')\n",
    "tfidf_matrix = vectorizer.fit_transform(all_texts)\n",
    "\n",
    "# Compute cosine similarity between user interests (first row) and all event tags\n",
    "similarity_scores = cosine_similarity(tfidf_matrix[0], tfidf_matrix[1:]).flatten()\n",
    "\n",
    "# Get the top N recommended event indices\n",
    "top_indices = similarity_scores.argsort()[::-1][:top_n]\n",
    "\n",
    "# Get event names based on top indices\n",
    "recommended_events = [event_names[i] for i in top_indices]\n",
    "\n",
    "return recommended_events\n"
   ]
  },
  {
   "cell_type": "code",
   "execution_count": null,
   "metadata": {},
   "outputs": [],
   "source": []
  },
  {
   "cell_type": "code",
   "execution_count": null,
   "metadata": {},
   "outputs": [],
   "source": []
  }
 ],
 "metadata": {
  "kernelspec": {
   "display_name": "kars",
   "language": "python",
   "name": "python3"
  },
  "language_info": {
   "codemirror_mode": {
    "name": "ipython",
    "version": 3
   },
   "file_extension": ".py",
   "mimetype": "text/x-python",
   "name": "python",
   "nbconvert_exporter": "python",
   "pygments_lexer": "ipython3",
   "version": "3.13.1"
  }
 },
 "nbformat": 4,
 "nbformat_minor": 2
}
